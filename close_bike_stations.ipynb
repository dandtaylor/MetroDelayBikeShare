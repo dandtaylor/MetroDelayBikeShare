{
 "cells": [
  {
   "cell_type": "markdown",
   "metadata": {},
   "source": [
    "# Do some initial testing and analysis  \n"
   ]
  },
  {
   "cell_type": "code",
   "execution_count": 4,
   "metadata": {
    "collapsed": false
   },
   "outputs": [],
   "source": [
    "import pickle\n",
    "from geopy.distance import vincenty"
   ]
  },
  {
   "cell_type": "markdown",
   "metadata": {},
   "source": [
    "Import all data (data was previously cleaning in other notebooks)"
   ]
  },
  {
   "cell_type": "code",
   "execution_count": 5,
   "metadata": {
    "collapsed": false
   },
   "outputs": [],
   "source": [
    "station_data = pickle.load( open( \"station_data.p\", \"rb\" ) )\n",
    "bike_location = pickle.load( open( \"bike_location.p\", \"rb\" ) )\n"
   ]
  },
  {
   "cell_type": "markdown",
   "metadata": {},
   "source": [
    "Now I have one dict with metro stations and one with bike stations"
   ]
  },
  {
   "cell_type": "code",
   "execution_count": 4,
   "metadata": {
    "collapsed": false
   },
   "outputs": [
    {
     "name": "stdout",
     "output_type": "stream",
     "text": [
      "[38.984282, -77.094431]\n",
      "[38.99521, -77.02918]\n"
     ]
    }
   ],
   "source": [
    "print(station_data['RD']['Bethesda'])\n",
    "print(bike_location['Silver Spring Metro/Colesville Rd & Wayne Ave'])"
   ]
  },
  {
   "cell_type": "markdown",
   "metadata": {
    "collapsed": true
   },
   "source": [
    "### step 1) create list of bike stations along each line\n",
    "Compare the distances of each bike station to each metro station of each line. If the bike station is \"close\" to a metro station, it should be added to a list.  \n",
    "* Build test example with RD line"
   ]
  },
  {
   "cell_type": "code",
   "execution_count": 28,
   "metadata": {
    "collapsed": false
   },
   "outputs": [
    {
     "name": "stdout",
     "output_type": "stream",
     "text": [
      "['Silver Spring Metro/Colesville Rd & Wayne Ave', 0.14900125289692967]\n",
      "['East West Hwy & Blair Mill Rd', 0.269544825073598]\n",
      "['Ripley & Bonifant St', 0.12842855448544993]\n"
     ]
    }
   ],
   "source": [
    "vincenty(station_data['RD']['Silver Spring'], bike_location['11th & O St NW']).miles\n",
    "for key_bike in bike_location:\n",
    "        dist = vincenty(station_data['RD']['Silver Spring'], bike_location[key_bike]).miles\n",
    "        if dist <= 0.3:\n",
    "            print([key_bike ,dist])"
   ]
  },
  {
   "cell_type": "markdown",
   "metadata": {},
   "source": [
    "* Iterate through each metro line, calculating the distance between each station of that line to each bikeshare station.  \n",
    "* Use `set` to drop duplicates"
   ]
  },
  {
   "cell_type": "markdown",
   "metadata": {},
   "source": [
    "#### make the below code a function that can be used to generate lists of stations based on different distances"
   ]
  },
  {
   "cell_type": "code",
   "execution_count": 6,
   "metadata": {
    "collapsed": true
   },
   "outputs": [],
   "source": [
    "def close_stations(distance):\n",
    "    \"\"\"This fn will return a dict of bikeshare stations close \n",
    "    to each metro stop based on the suppled distance in miles\"\"\"\n",
    "    lines = ['RD', 'YL', 'GR','BL', 'OR', 'SV']\n",
    "    bikes_close = dict()\n",
    "    for ii in range(len(lines)):\n",
    "        bikes_temp = []\n",
    "        for key_metro in station_data[lines[ii]]:\n",
    "            for key_bike in bike_location:\n",
    "                dist = vincenty(station_data[lines[ii]][key_metro], bike_location[key_bike]).miles\n",
    "                if dist <= distance:\n",
    "                    bikes_temp.append(key_bike)\n",
    "                    print([lines[ii], key_metro, key_bike, dist])\n",
    "        bikes_close[lines[ii]] = list(set(bikes_temp))\n",
    "    return bikes_close"
   ]
  },
  {
   "cell_type": "code",
   "execution_count": 57,
   "metadata": {
    "collapsed": false,
    "scrolled": true
   },
   "outputs": [
    {
     "name": "stdout",
     "output_type": "stream",
     "text": [
      "['RD', 'Metro Center', '14th St & New York Ave NW', 0.21398470451775278]\n",
      "['RD', 'Metro Center', '13th St & New York Ave NW', 0.16516781023326638]\n",
      "['RD', 'Metro Center', 'Metro Center / 12th & G St NW', 0.01309254369908234]\n",
      "['RD', 'Metro Center', '14th & G St NW', 0.2013871937335083]\n",
      "['RD', 'Metro Center', '11th & F St NW', 0.06795192147122418]\n",
      "['RD', 'Metro Center', '10th & E St NW', 0.19796628566735064]\n",
      "['RD', 'Metro Center', 'MLK Library/9th & G St NW', 0.2059236753082303]\n",
      "['RD', 'Farragut North', '17th & K St NW', 0.06809744971683841]\n",
      "['RD', 'Farragut North', '18th & M St NW', 0.14583455959811434]\n",
      "['RD', 'Farragut North', '19th & L St NW', 0.2097660688445131]\n",
      "['RD', 'Farragut North', '17th & K St NW / Farragut Square', 0.11020264340930738]\n",
      "['RD', 'Farragut North', '17th & Rhode Island Ave NW', 0.24109371721077677]\n",
      "['RD', 'Farragut North', '19th & K St NW', 0.205866878789979]\n",
      "['RD', 'Farragut North', '16th & K St NW', 0.22001877202091058]\n",
      "['RD', 'Dupont Circle', 'Massachusetts Ave & Dupont Circle NW', 0.05904192211308173]\n",
      "['RD', 'Dupont Circle', '20th & O St NW / Dupont South', 0.07475003434079858]\n",
      "['RD', 'Dupont Circle', '18th & R St NW', 0.23759175540568198]\n",
      "['RD', 'Woodley Park-Zoo/Adams Morgan', 'Calvert St & Woodley Pl NW', 0.17087686958666962]\n",
      "['RD', 'Cleveland Park', 'Connecticut Ave & Newark St NW / Cleveland Park', 0.032888310887331594]\n",
      "['RD', 'Van Ness-UDC', 'Van Ness Metro / UDC', 0.06748728170569013]\n",
      "['RD', 'Van Ness-UDC', 'Connecticut Ave & Tilden St NW', 0.18775077370601284]\n",
      "['RD', 'Tenleytown-AU', 'Tenleytown / Wisconsin Ave & Albemarle St NW', 0.01870215984191263]\n",
      "['RD', 'Tenleytown-AU', 'Yuma St & Tenley Circle NW', 0.12385090651369136]\n",
      "['RD', 'Tenleytown-AU', 'Wisconsin Ave & Brandywine St NW', 0.14205790278530103]\n",
      "['RD', 'Friendship Heights', 'Friendship Hts Metro/Wisconsin Ave & Wisconsin Cir', 0.07030935754340062]\n",
      "['RD', 'Friendship Heights', 'Friendship Blvd & Willard Ave', 0.1475568018064194]\n",
      "['RD', 'Friendship Heights', 'Wisconsin Ave & Ingomar St NW', 0.1853364965975283]\n",
      "['RD', 'Bethesda', 'Montgomery Ave & Waverly St ', 0.12343704983228442]\n",
      "['RD', 'Bethesda', 'Montgomery & East Ln', 0.07256963207918365]\n",
      "['RD', 'Bethesda', '47th & Elm St', 0.1819995760006289]\n",
      "['RD', 'Bethesda', 'Bethesda Metro', 0.028784887064349826]\n",
      "['RD', 'Medical Center', 'Medical Center Metro ', 0.05183570243479291]\n",
      "['RD', 'Rockville', 'Monroe St & Monroe Pl', 0.1518784402852736]\n",
      "['RD', 'Rockville', 'Rockville Metro East', 0.08791680580313965]\n",
      "['RD', 'Rockville', 'Rockville Metro West', 0.02631890291879981]\n",
      "['RD', 'Shady Grove', 'Shady Grove Metro West', 0.06308897851791358]\n",
      "['RD', 'Gallery Pl-Chinatown', '5th & F St NW', 0.15545516612698382]\n",
      "['RD', 'Gallery Pl-Chinatown', '8th & H St NW', 0.1150334216235156]\n",
      "['RD', 'Gallery Pl-Chinatown', '7th & F St NW/Portrait Gallery', 0.0742649832638229]\n",
      "['RD', 'Gallery Pl-Chinatown', '5th St & Massachusetts Ave NW', 0.24736734908032668]\n",
      "['RD', 'Gallery Pl-Chinatown', 'MLK Library/9th & G St NW', 0.1310612600808437]\n",
      "['RD', 'Judiciary Square', '3rd & H St NW', 0.2406276772242024]\n",
      "['RD', 'Judiciary Square', '5th & F St NW', 0.16555436487233147]\n",
      "['RD', 'Judiciary Square', '4th & D St NW / Judiciary Square', 0.058682349306896676]\n",
      "['RD', 'Judiciary Square', '6th St & Indiana Ave NW', 0.20603767723861652]\n",
      "['RD', 'Union Station', 'Columbus Circle / Union Station', 0.11109583809423976]\n",
      "['RD', 'Union Station', 'North Capitol St & F St NW', 0.1704964397188881]\n",
      "['RD', 'Union Station', 'North Capitol St & G Pl NE', 0.17968423401360265]\n",
      "['RD', 'Union Station', '2nd & G St NE', 0.21350387027687284]\n",
      "['RD', 'Rhode Island Ave-Brentwood', 'Rhode Island Ave Metro', 0.007101677542623397]\n",
      "['RD', 'Brookland-CUA', 'John McCormack Dr & Michigan Ave NE', 0.10738651336738618]\n",
      "['RD', 'Brookland-CUA', '12th & Newton St NE', 0.19242312312348303]\n",
      "['RD', 'Brookland-CUA', '10th & Monroe St NE', 0.10206706540697874]\n",
      "['RD', 'Fort Totten', 'Fort Totten Metro', 0.05035612084528124]\n",
      "['RD', 'Takoma', 'Takoma Metro', 0.05696539632243835]\n",
      "['RD', 'Silver Spring', 'Silver Spring Metro/Colesville Rd & Wayne Ave', 0.14900125289692967]\n",
      "['RD', 'Silver Spring', 'Ripley & Bonifant St', 0.12842855448544993]\n",
      "['RD', 'NoMa-Gallaudet U', '1st & M St NE', 0.184651850477089]\n",
      "['RD', 'NoMa-Gallaudet U', 'M St & Delaware Ave NE', 0.1173464582697328]\n",
      "['YL', 'Pentagon City', 'Pentagon City Metro / 12th & S Hayes St', 0.05616960461752927]\n",
      "['YL', 'Pentagon City', 'S Joyce & Army Navy Dr', 0.20948884489390635]\n",
      "['YL', 'Crystal City', 'Eads St & 15th St S', 0.16409119071554526]\n",
      "['YL', 'Crystal City', '18th & Eads St.', 0.1519332512988562]\n",
      "['YL', 'Crystal City', '20th & Crystal Dr', 0.11925812826792695]\n",
      "['YL', 'Crystal City', '15th & Crystal Dr', 0.17273774606001854]\n",
      "['YL', 'Crystal City', 'Crystal City Metro / 18th & Bell St', 0.03952555633368628]\n",
      "['YL', 'Braddock Road', 'Braddock Rd Metro', 0.06474084924822252]\n",
      "['YL', 'Braddock Road', 'Madison & N Henry St', 0.23459378802342581]\n",
      "['YL', 'King St-Old Town', 'King St Metro South', 0.05322495125055565]\n",
      "['YL', 'King St-Old Town', 'Duke St & John Carlyle St', 0.14520436443395887]\n",
      "['YL', 'King St-Old Town', 'King St Metro North / Cameron St', 0.08020183404313651]\n",
      "['YL', 'Eisenhower Avenue', 'Eisenhower Ave & Mill Race Ln', 0.1319180413655747]\n",
      "['YL', 'Mt Vernon Sq 7th St-Convention Center', '5th & K St NW', 0.2481376013434445]\n",
      "['YL', 'Mt Vernon Sq 7th St-Convention Center', 'Convention Center / 7th & M St NW', 0.009205412414386742]\n",
      "['YL', 'Mt Vernon Sq 7th St-Convention Center', '8th & O St NW', 0.21124985040669653]\n",
      "['YL', 'Shaw-Howard U', '7th & T St NW', 0.1780397511948995]\n",
      "['YL', 'Shaw-Howard U', '7th & R St NW / Shaw Library', 0.013955344171547574]\n",
      "['YL', 'Shaw-Howard U', 'New Jersey Ave & R St NW', 0.24452519804246325]\n",
      "['YL', 'U Street/African-Amer Civil War Memorial/Cardozo', '14th & V St NW', 0.18684085297228728]\n",
      "['YL', 'U Street/African-Amer Civil War Memorial/Cardozo', '10th & U St NW', 0.1709066185507988]\n",
      "['YL', 'U Street/African-Amer Civil War Memorial/Cardozo', '12th & U St NW', 0.047713514018469315]\n",
      "['YL', 'U Street/African-Amer Civil War Memorial/Cardozo', '11th & S St NW', 0.21456936049401606]\n",
      "['YL', 'Columbia Heights', '14th & Harvard St NW', 0.13279705137830278]\n",
      "['YL', 'Columbia Heights', 'Park Rd & Holmead Pl NW', 0.1620712692428792]\n",
      "['YL', 'Columbia Heights', '16th & Irving St NW', 0.18785630620859795]\n",
      "['YL', 'Columbia Heights', '14th & Girard St NW', 0.2346992048938659]\n",
      "['YL', 'Columbia Heights', '14th & Irving St NW', 0.03082093490087573]\n",
      "['YL', 'Georgia Ave-Petworth', 'Georgia & New Hampshire Ave NW', 0.004859580763556235]\n",
      "['YL', 'Fort Totten', 'Fort Totten Metro', 0.05035612084528124]\n",
      "['YL', 'Gallery Pl-Chinatown', '5th & F St NW', 0.15545516612698382]\n",
      "['YL', 'Gallery Pl-Chinatown', '8th & H St NW', 0.1150334216235156]\n",
      "['YL', 'Gallery Pl-Chinatown', '7th & F St NW/Portrait Gallery', 0.0742649832638229]\n",
      "['YL', 'Gallery Pl-Chinatown', '5th St & Massachusetts Ave NW', 0.24736734908032668]\n",
      "['YL', 'Gallery Pl-Chinatown', 'MLK Library/9th & G St NW', 0.1310612600808437]\n",
      "['YL', 'Archives-Navy Memorial-Penn Quarter', '10th St & Constitution Ave NW', 0.22950697051048521]\n",
      "['YL', 'Archives-Navy Memorial-Penn Quarter', '7th & F St NW/Portrait Gallery', 0.2352078996996687]\n",
      "['YL', 'Archives-Navy Memorial-Penn Quarter', '6th St & Indiana Ave NW', 0.11570080522927167]\n",
      "['YL', 'Archives-Navy Memorial-Penn Quarter', '8th & D St NW', 0.09782339862004422]\n",
      "['YL', \"L'Enfant Plaza\", \"L'Enfant Plaza / 7th & C St SW\", 0.10392845771796301]\n",
      "['YL', \"L'Enfant Plaza\", 'Maryland & Independence Ave SW', 0.23855994005900782]\n",
      "['YL', \"L'Enfant Plaza\", '4th & E St SW', 0.24779407268961226]\n",
      "['YL', \"L'Enfant Plaza\", \"10th St & L'Enfant Plaza SW\", 0.20814928065410226]\n",
      "['GR', 'Mt Vernon Sq 7th St-Convention Center', '5th & K St NW', 0.2481376013434445]\n",
      "['GR', 'Mt Vernon Sq 7th St-Convention Center', 'Convention Center / 7th & M St NW', 0.009205412414386742]\n",
      "['GR', 'Mt Vernon Sq 7th St-Convention Center', '8th & O St NW', 0.21124985040669653]\n",
      "['GR', 'Shaw-Howard U', '7th & T St NW', 0.1780397511948995]\n",
      "['GR', 'Shaw-Howard U', '7th & R St NW / Shaw Library', 0.013955344171547574]\n",
      "['GR', 'Shaw-Howard U', 'New Jersey Ave & R St NW', 0.24452519804246325]\n",
      "['GR', 'U Street/African-Amer Civil War Memorial/Cardozo', '14th & V St NW', 0.18684085297228728]\n",
      "['GR', 'U Street/African-Amer Civil War Memorial/Cardozo', '10th & U St NW', 0.1709066185507988]\n",
      "['GR', 'U Street/African-Amer Civil War Memorial/Cardozo', '12th & U St NW', 0.047713514018469315]\n",
      "['GR', 'U Street/African-Amer Civil War Memorial/Cardozo', '11th & S St NW', 0.21456936049401606]\n",
      "['GR', 'Columbia Heights', '14th & Harvard St NW', 0.13279705137830278]\n",
      "['GR', 'Columbia Heights', 'Park Rd & Holmead Pl NW', 0.1620712692428792]\n",
      "['GR', 'Columbia Heights', '16th & Irving St NW', 0.18785630620859795]\n",
      "['GR', 'Columbia Heights', '14th & Girard St NW', 0.2346992048938659]\n",
      "['GR', 'Columbia Heights', '14th & Irving St NW', 0.03082093490087573]\n",
      "['GR', 'Georgia Ave-Petworth', 'Georgia & New Hampshire Ave NW', 0.004859580763556235]\n",
      "['GR', 'Fort Totten', 'Fort Totten Metro', 0.05035612084528124]\n",
      "['GR', 'Gallery Pl-Chinatown', '5th & F St NW', 0.15545516612698382]\n",
      "['GR', 'Gallery Pl-Chinatown', '8th & H St NW', 0.1150334216235156]\n",
      "['GR', 'Gallery Pl-Chinatown', '7th & F St NW/Portrait Gallery', 0.0742649832638229]\n",
      "['GR', 'Gallery Pl-Chinatown', '5th St & Massachusetts Ave NW', 0.24736734908032668]\n",
      "['GR', 'Gallery Pl-Chinatown', 'MLK Library/9th & G St NW', 0.1310612600808437]\n",
      "['GR', 'Archives-Navy Memorial-Penn Quarter', '10th St & Constitution Ave NW', 0.22950697051048521]\n",
      "['GR', 'Archives-Navy Memorial-Penn Quarter', '7th & F St NW/Portrait Gallery', 0.2352078996996687]\n",
      "['GR', 'Archives-Navy Memorial-Penn Quarter', '6th St & Indiana Ave NW', 0.11570080522927167]\n",
      "['GR', 'Archives-Navy Memorial-Penn Quarter', '8th & D St NW', 0.09782339862004422]\n",
      "['GR', \"L'Enfant Plaza\", \"L'Enfant Plaza / 7th & C St SW\", 0.10392845771796301]\n",
      "['GR', \"L'Enfant Plaza\", 'Maryland & Independence Ave SW', 0.23855994005900782]\n",
      "['GR', \"L'Enfant Plaza\", '4th & E St SW', 0.24779407268961226]\n",
      "['GR', \"L'Enfant Plaza\", \"10th St & L'Enfant Plaza SW\", 0.20814928065410226]\n",
      "['GR', 'Waterfront', '4th & M St SW', 0.037004749474119414]\n",
      "['GR', 'Waterfront', '6th & Water St SW / SW Waterfront', 0.20700758680781464]\n",
      "['GR', 'Navy Yard-Ballpark', '1st & N St  SE', 0.16126219017567328]\n",
      "['GR', 'Navy Yard-Ballpark', 'M St & New Jersey Ave SE', 0.0773294486819899]\n",
      "['GR', 'Navy Yard-Ballpark', '1st & K St SE', 0.14800096458115383]\n",
      "['GR', 'Navy Yard-Ballpark', '3rd & Tingey St SE', 0.18117640721210493]\n",
      "['GR', 'Anacostia', 'Anacostia Metro', 0.06832870667596788]\n",
      "['GR', 'Congress Heights', 'Congress Heights Metro', 0.04687429980919824]\n",
      "['BL', 'Metro Center', '14th St & New York Ave NW', 0.21398470451775278]\n",
      "['BL', 'Metro Center', '13th St & New York Ave NW', 0.16516781023326638]\n",
      "['BL', 'Metro Center', 'Metro Center / 12th & G St NW', 0.01309254369908234]\n",
      "['BL', 'Metro Center', '14th & G St NW', 0.2013871937335083]\n",
      "['BL', 'Metro Center', '11th & F St NW', 0.06795192147122418]\n",
      "['BL', 'Metro Center', '10th & E St NW', 0.19796628566735064]\n",
      "['BL', 'Metro Center', 'MLK Library/9th & G St NW', 0.2059236753082303]\n",
      "['BL', 'McPherson Square', '14th St & New York Ave NW', 0.15723885768535162]\n",
      "['BL', 'McPherson Square', 'New York Ave & 15th St NW', 0.1528829909635483]\n",
      "['BL', 'McPherson Square', '13th St & New York Ave NW', 0.21839717496341166]\n",
      "['BL', 'McPherson Square', '14th & G St NW', 0.2447178506415466]\n",
      "['BL', 'McPherson Square', '15th & K St NW', 0.04763881826771269]\n",
      "['BL', 'McPherson Square', '15th & L St NW', 0.17402814495613508]\n",
      "['BL', 'McPherson Square', '14th & L St NW', 0.19171259255494894]\n",
      "['BL', 'McPherson Square', '16th & K St NW', 0.14657107395136645]\n",
      "['BL', 'Farragut West', '19th St & Pennsylvania Ave NW', 0.1805688709642097]\n",
      "['BL', 'Farragut West', '17th & K St NW', 0.1184736548215834]\n",
      "['BL', 'Farragut West', '17th & K St NW / Farragut Square', 0.09544363416981075]\n",
      "['BL', 'Farragut West', '18th St & Pennsylvania Ave NW', 0.14609472497519788]\n",
      "['BL', 'Farragut West', '19th & K St NW', 0.20153425530675095]\n",
      "['BL', 'Farragut West', '17th & G St NW', 0.20036382189279997]\n",
      "['BL', 'Farragut West', '16th & K St NW', 0.23898899297867704]\n",
      "['BL', 'Foggy Bottom-GWU', '21st & I St NW', 0.17696624776430825]\n",
      "['BL', 'Foggy Bottom-GWU', '21st St & Pennsylvania Ave NW', 0.21017496483160936]\n",
      "['BL', 'Foggy Bottom-GWU', '22nd & I St NW / Foggy Bottom', 0.07593069408964832]\n",
      "['BL', 'Foggy Bottom-GWU', 'New Hampshire Ave & 24th St NW', 0.09093780040088711]\n",
      "['BL', 'Rosslyn', 'Lynn & 19th St North', 0.05568150440235235]\n",
      "['BL', 'Rosslyn', 'Rosslyn Metro / Wilson Blvd & Ft Myer Dr', 0.1449589727329511]\n",
      "['BL', 'Rosslyn', 'N Lynn St & Fairfax Dr', 0.19139610904944696]\n",
      "['BL', 'Pentagon City', 'Pentagon City Metro / 12th & S Hayes St', 0.05616960461752927]\n",
      "['BL', 'Pentagon City', 'S Joyce & Army Navy Dr', 0.20948884489390635]\n",
      "['BL', 'Crystal City', 'Eads St & 15th St S', 0.16409119071554526]\n",
      "['BL', 'Crystal City', '18th & Eads St.', 0.1519332512988562]\n",
      "['BL', 'Crystal City', '20th & Crystal Dr', 0.11925812826792695]\n",
      "['BL', 'Crystal City', '15th & Crystal Dr', 0.17273774606001854]\n",
      "['BL', 'Crystal City', 'Crystal City Metro / 18th & Bell St', 0.03952555633368628]\n",
      "['BL', 'Braddock Road', 'Braddock Rd Metro', 0.06474084924822252]\n",
      "['BL', 'Braddock Road', 'Madison & N Henry St', 0.23459378802342581]\n",
      "['BL', 'King St-Old Town', 'King St Metro South', 0.05322495125055565]\n",
      "['BL', 'King St-Old Town', 'Duke St & John Carlyle St', 0.14520436443395887]\n",
      "['BL', 'King St-Old Town', 'King St Metro North / Cameron St', 0.08020183404313651]\n",
      "['BL', 'Federal Triangle', '10th St & Constitution Ave NW', 0.12906616047758845]\n",
      "['BL', 'Federal Triangle', '14th & D St NW / Ronald Reagan Building', 0.19052632348683196]\n",
      "['BL', 'Federal Triangle', '10th & E St NW', 0.18873662309316802]\n",
      "['BL', 'Smithsonian', 'USDA / 12th & Independence Ave SW', 0.05415065082052175]\n",
      "['BL', 'Smithsonian', 'Jefferson Dr & 14th St SW', 0.22921295383213527]\n",
      "['BL', 'Smithsonian', 'Smithsonian-National Mall / Jefferson Dr & 12th St SW', 0.054707995095332536]\n",
      "['BL', 'Smithsonian', \"Independence Ave & L'Enfant Plaza SW/DOE\", 0.14188395524883454]\n",
      "['BL', \"L'Enfant Plaza\", \"L'Enfant Plaza / 7th & C St SW\", 0.10392845771796301]\n",
      "['BL', \"L'Enfant Plaza\", 'Maryland & Independence Ave SW', 0.23855994005900782]\n",
      "['BL', \"L'Enfant Plaza\", '4th & E St SW', 0.24779407268961226]\n",
      "['BL', \"L'Enfant Plaza\", \"10th St & L'Enfant Plaza SW\", 0.20814928065410226]\n",
      "['BL', 'Federal Center SW', 'Maryland & Independence Ave SW', 0.2315870445775665]\n",
      "['BL', 'Federal Center SW', '4th & E St SW', 0.10316959194745154]\n",
      "['BL', 'Federal Center SW', 'Washington & Independence Ave SW/HHS', 0.17923314597574783]\n",
      "['BL', 'Capitol South', '3rd & D St SE', 0.15322522684657777]\n",
      "['BL', 'Capitol South', '3rd St & Pennsylvania Ave SE', 0.2388866523917833]\n",
      "['BL', 'Capitol South', '1st & D St SE', 0.044784851938701166]\n",
      "['BL', 'Eastern Market', 'Eastern Market / 7th & North Carolina Ave SE', 0.2106018035593906]\n",
      "['BL', 'Eastern Market', 'Eastern Market Metro / Pennsylvania Ave & 7th St SE', 0.009203298676164777]\n",
      "['BL', 'Potomac Ave', 'Potomac & Pennsylvania Ave SE', 0.045383595416708646]\n",
      "['BL', 'Potomac Ave', '14th & D St SE', 0.21886517471083275]\n",
      "['BL', 'Benning Road', 'Benning Rd & East Capitol St NE / Benning Rd Metro', 0.06875196675595115]\n",
      "['BL', 'Capitol Heights', '61st St & Banks Pl NE', 0.14160870072421566]\n",
      "['OR', 'Metro Center', '14th St & New York Ave NW', 0.21398470451775278]\n",
      "['OR', 'Metro Center', '13th St & New York Ave NW', 0.16516781023326638]\n",
      "['OR', 'Metro Center', 'Metro Center / 12th & G St NW', 0.01309254369908234]\n",
      "['OR', 'Metro Center', '14th & G St NW', 0.2013871937335083]\n",
      "['OR', 'Metro Center', '11th & F St NW', 0.06795192147122418]\n",
      "['OR', 'Metro Center', '10th & E St NW', 0.19796628566735064]\n",
      "['OR', 'Metro Center', 'MLK Library/9th & G St NW', 0.2059236753082303]\n",
      "['OR', 'McPherson Square', '14th St & New York Ave NW', 0.15723885768535162]\n",
      "['OR', 'McPherson Square', 'New York Ave & 15th St NW', 0.1528829909635483]\n",
      "['OR', 'McPherson Square', '13th St & New York Ave NW', 0.21839717496341166]\n",
      "['OR', 'McPherson Square', '14th & G St NW', 0.2447178506415466]\n",
      "['OR', 'McPherson Square', '15th & K St NW', 0.04763881826771269]\n",
      "['OR', 'McPherson Square', '15th & L St NW', 0.17402814495613508]\n",
      "['OR', 'McPherson Square', '14th & L St NW', 0.19171259255494894]\n",
      "['OR', 'McPherson Square', '16th & K St NW', 0.14657107395136645]\n",
      "['OR', 'Farragut West', '19th St & Pennsylvania Ave NW', 0.1805688709642097]\n",
      "['OR', 'Farragut West', '17th & K St NW', 0.1184736548215834]\n",
      "['OR', 'Farragut West', '17th & K St NW / Farragut Square', 0.09544363416981075]\n",
      "['OR', 'Farragut West', '18th St & Pennsylvania Ave NW', 0.14609472497519788]\n",
      "['OR', 'Farragut West', '19th & K St NW', 0.20153425530675095]\n",
      "['OR', 'Farragut West', '17th & G St NW', 0.20036382189279997]\n",
      "['OR', 'Farragut West', '16th & K St NW', 0.23898899297867704]\n",
      "['OR', 'Foggy Bottom-GWU', '21st & I St NW', 0.17696624776430825]\n",
      "['OR', 'Foggy Bottom-GWU', '21st St & Pennsylvania Ave NW', 0.21017496483160936]\n",
      "['OR', 'Foggy Bottom-GWU', '22nd & I St NW / Foggy Bottom', 0.07593069408964832]\n",
      "['OR', 'Foggy Bottom-GWU', 'New Hampshire Ave & 24th St NW', 0.09093780040088711]\n",
      "['OR', 'Rosslyn', 'Lynn & 19th St North', 0.05568150440235235]\n",
      "['OR', 'Rosslyn', 'Rosslyn Metro / Wilson Blvd & Ft Myer Dr', 0.1449589727329511]\n",
      "['OR', 'Rosslyn', 'N Lynn St & Fairfax Dr', 0.19139610904944696]\n",
      "['OR', 'Federal Triangle', '10th St & Constitution Ave NW', 0.12906616047758845]\n",
      "['OR', 'Federal Triangle', '14th & D St NW / Ronald Reagan Building', 0.19052632348683196]\n",
      "['OR', 'Federal Triangle', '10th & E St NW', 0.18873662309316802]\n",
      "['OR', 'Smithsonian', 'USDA / 12th & Independence Ave SW', 0.05415065082052175]\n",
      "['OR', 'Smithsonian', 'Jefferson Dr & 14th St SW', 0.22921295383213527]\n",
      "['OR', 'Smithsonian', 'Smithsonian-National Mall / Jefferson Dr & 12th St SW', 0.054707995095332536]\n",
      "['OR', 'Smithsonian', \"Independence Ave & L'Enfant Plaza SW/DOE\", 0.14188395524883454]\n",
      "['OR', \"L'Enfant Plaza\", \"L'Enfant Plaza / 7th & C St SW\", 0.10392845771796301]\n",
      "['OR', \"L'Enfant Plaza\", 'Maryland & Independence Ave SW', 0.23855994005900782]\n",
      "['OR', \"L'Enfant Plaza\", '4th & E St SW', 0.24779407268961226]\n",
      "['OR', \"L'Enfant Plaza\", \"10th St & L'Enfant Plaza SW\", 0.20814928065410226]\n",
      "['OR', 'Federal Center SW', 'Maryland & Independence Ave SW', 0.2315870445775665]\n",
      "['OR', 'Federal Center SW', '4th & E St SW', 0.10316959194745154]\n",
      "['OR', 'Federal Center SW', 'Washington & Independence Ave SW/HHS', 0.17923314597574783]\n",
      "['OR', 'Capitol South', '3rd & D St SE', 0.15322522684657777]\n",
      "['OR', 'Capitol South', '3rd St & Pennsylvania Ave SE', 0.2388866523917833]\n",
      "['OR', 'Capitol South', '1st & D St SE', 0.044784851938701166]\n",
      "['OR', 'Eastern Market', 'Eastern Market / 7th & North Carolina Ave SE', 0.2106018035593906]\n",
      "['OR', 'Eastern Market', 'Eastern Market Metro / Pennsylvania Ave & 7th St SE', 0.009203298676164777]\n",
      "['OR', 'Potomac Ave', 'Potomac & Pennsylvania Ave SE', 0.045383595416708646]\n",
      "['OR', 'Potomac Ave', '14th & D St SE', 0.21886517471083275]\n",
      "['OR', 'Minnesota Ave', 'Minnesota Ave Metro/DOES', 0.0901446515107497]\n",
      "['OR', 'Deanwood', 'Deanwood Rec Center', 0.1735496282518451]\n",
      "['OR', 'Court House', 'Wilson Blvd & N Uhle St', 0.03960186288180089]\n",
      "['OR', 'Court House', 'N Rhodes & 16th St N', 0.24874370238994145]\n",
      "['OR', 'Court House', 'N Veitch & Key Blvd', 0.16639183585323736]\n",
      "['OR', 'Court House', '15th & N Scott St', 0.1727411666694406]\n",
      "['OR', 'Court House', 'Court House Metro / 15th & N Uhle St ', 0.0777875707328746]\n",
      "['OR', 'Clarendon', 'Clarendon Blvd & N Fillmore St', 0.24086497799497678]\n",
      "['OR', 'Clarendon', 'Clarendon Metro / Wilson Blvd & N Highland St', 0.1522934803671394]\n",
      "['OR', 'Clarendon', 'Fairfax Dr & Wilson Blvd', 0.05774363584589857]\n",
      "['OR', 'Clarendon', 'Washington Blvd & 10th St N', 0.21895913150870006]\n",
      "['OR', 'Virginia Square-GMU', 'Wilson Blvd & N Oakland St', 0.12594698087453432]\n",
      "['OR', 'Virginia Square-GMU', 'Virginia Square Metro / N Monroe St & 9th St N', 0.07025997566428539]\n",
      "['OR', 'Virginia Square-GMU', 'Central Library / N Quincy St & 10th St N', 0.19742106200673581]\n",
      "['OR', 'Virginia Square-GMU', 'Fairfax Dr & Kenmore St', 0.19401144387935257]\n",
      "['OR', 'Ballston-MU', 'Ballston Metro / N Stuart & 9th St N', 0.0709644315787311]\n",
      "['OR', 'Ballston-MU', 'N Randolph St & Fairfax Dr', 0.13909018298795253]\n",
      "['OR', 'Ballston-MU', 'Utah St & 11th St N ', 0.1564819022944289]\n",
      "['OR', 'East Falls Church', 'East Falls Church Metro/Sycamore St & 19th St N', 0.09326212342602272]\n",
      "['SV', 'Metro Center', '14th St & New York Ave NW', 0.21398470451775278]\n",
      "['SV', 'Metro Center', '13th St & New York Ave NW', 0.16516781023326638]\n",
      "['SV', 'Metro Center', 'Metro Center / 12th & G St NW', 0.01309254369908234]\n",
      "['SV', 'Metro Center', '14th & G St NW', 0.2013871937335083]\n",
      "['SV', 'Metro Center', '11th & F St NW', 0.06795192147122418]\n",
      "['SV', 'Metro Center', '10th & E St NW', 0.19796628566735064]\n",
      "['SV', 'Metro Center', 'MLK Library/9th & G St NW', 0.2059236753082303]\n",
      "['SV', 'McPherson Square', '14th St & New York Ave NW', 0.15723885768535162]\n",
      "['SV', 'McPherson Square', 'New York Ave & 15th St NW', 0.1528829909635483]\n",
      "['SV', 'McPherson Square', '13th St & New York Ave NW', 0.21839717496341166]\n",
      "['SV', 'McPherson Square', '14th & G St NW', 0.2447178506415466]\n",
      "['SV', 'McPherson Square', '15th & K St NW', 0.04763881826771269]\n",
      "['SV', 'McPherson Square', '15th & L St NW', 0.17402814495613508]\n",
      "['SV', 'McPherson Square', '14th & L St NW', 0.19171259255494894]\n",
      "['SV', 'McPherson Square', '16th & K St NW', 0.14657107395136645]\n",
      "['SV', 'Farragut West', '19th St & Pennsylvania Ave NW', 0.1805688709642097]\n",
      "['SV', 'Farragut West', '17th & K St NW', 0.1184736548215834]\n",
      "['SV', 'Farragut West', '17th & K St NW / Farragut Square', 0.09544363416981075]\n",
      "['SV', 'Farragut West', '18th St & Pennsylvania Ave NW', 0.14609472497519788]\n",
      "['SV', 'Farragut West', '19th & K St NW', 0.20153425530675095]\n",
      "['SV', 'Farragut West', '17th & G St NW', 0.20036382189279997]\n",
      "['SV', 'Farragut West', '16th & K St NW', 0.23898899297867704]\n",
      "['SV', 'Foggy Bottom-GWU', '21st & I St NW', 0.17696624776430825]\n",
      "['SV', 'Foggy Bottom-GWU', '21st St & Pennsylvania Ave NW', 0.21017496483160936]\n",
      "['SV', 'Foggy Bottom-GWU', '22nd & I St NW / Foggy Bottom', 0.07593069408964832]\n",
      "['SV', 'Foggy Bottom-GWU', 'New Hampshire Ave & 24th St NW', 0.09093780040088711]\n",
      "['SV', 'Rosslyn', 'Lynn & 19th St North', 0.05568150440235235]\n",
      "['SV', 'Rosslyn', 'Rosslyn Metro / Wilson Blvd & Ft Myer Dr', 0.1449589727329511]\n",
      "['SV', 'Rosslyn', 'N Lynn St & Fairfax Dr', 0.19139610904944696]\n",
      "['SV', 'Federal Triangle', '10th St & Constitution Ave NW', 0.12906616047758845]\n",
      "['SV', 'Federal Triangle', '14th & D St NW / Ronald Reagan Building', 0.19052632348683196]\n",
      "['SV', 'Federal Triangle', '10th & E St NW', 0.18873662309316802]\n",
      "['SV', 'Smithsonian', 'USDA / 12th & Independence Ave SW', 0.05415065082052175]\n",
      "['SV', 'Smithsonian', 'Jefferson Dr & 14th St SW', 0.22921295383213527]\n",
      "['SV', 'Smithsonian', 'Smithsonian-National Mall / Jefferson Dr & 12th St SW', 0.054707995095332536]\n",
      "['SV', 'Smithsonian', \"Independence Ave & L'Enfant Plaza SW/DOE\", 0.14188395524883454]\n",
      "['SV', \"L'Enfant Plaza\", \"L'Enfant Plaza / 7th & C St SW\", 0.10392845771796301]\n",
      "['SV', \"L'Enfant Plaza\", 'Maryland & Independence Ave SW', 0.23855994005900782]\n",
      "['SV', \"L'Enfant Plaza\", '4th & E St SW', 0.24779407268961226]\n",
      "['SV', \"L'Enfant Plaza\", \"10th St & L'Enfant Plaza SW\", 0.20814928065410226]\n",
      "['SV', 'Federal Center SW', 'Maryland & Independence Ave SW', 0.2315870445775665]\n",
      "['SV', 'Federal Center SW', '4th & E St SW', 0.10316959194745154]\n",
      "['SV', 'Federal Center SW', 'Washington & Independence Ave SW/HHS', 0.17923314597574783]\n",
      "['SV', 'Capitol South', '3rd & D St SE', 0.15322522684657777]\n",
      "['SV', 'Capitol South', '3rd St & Pennsylvania Ave SE', 0.2388866523917833]\n",
      "['SV', 'Capitol South', '1st & D St SE', 0.044784851938701166]\n",
      "['SV', 'Eastern Market', 'Eastern Market / 7th & North Carolina Ave SE', 0.2106018035593906]\n",
      "['SV', 'Eastern Market', 'Eastern Market Metro / Pennsylvania Ave & 7th St SE', 0.009203298676164777]\n",
      "['SV', 'Potomac Ave', 'Potomac & Pennsylvania Ave SE', 0.045383595416708646]\n",
      "['SV', 'Potomac Ave', '14th & D St SE', 0.21886517471083275]\n",
      "['SV', 'Benning Road', 'Benning Rd & East Capitol St NE / Benning Rd Metro', 0.06875196675595115]\n",
      "['SV', 'Capitol Heights', '61st St & Banks Pl NE', 0.14160870072421566]\n",
      "['SV', 'Court House', 'Wilson Blvd & N Uhle St', 0.03960186288180089]\n",
      "['SV', 'Court House', 'N Rhodes & 16th St N', 0.24874370238994145]\n",
      "['SV', 'Court House', 'N Veitch & Key Blvd', 0.16639183585323736]\n",
      "['SV', 'Court House', '15th & N Scott St', 0.1727411666694406]\n",
      "['SV', 'Court House', 'Court House Metro / 15th & N Uhle St ', 0.0777875707328746]\n",
      "['SV', 'Clarendon', 'Clarendon Blvd & N Fillmore St', 0.24086497799497678]\n",
      "['SV', 'Clarendon', 'Clarendon Metro / Wilson Blvd & N Highland St', 0.1522934803671394]\n",
      "['SV', 'Clarendon', 'Fairfax Dr & Wilson Blvd', 0.05774363584589857]\n",
      "['SV', 'Clarendon', 'Washington Blvd & 10th St N', 0.21895913150870006]\n",
      "['SV', 'Virginia Square-GMU', 'Wilson Blvd & N Oakland St', 0.12594698087453432]\n",
      "['SV', 'Virginia Square-GMU', 'Virginia Square Metro / N Monroe St & 9th St N', 0.07025997566428539]\n",
      "['SV', 'Virginia Square-GMU', 'Central Library / N Quincy St & 10th St N', 0.19742106200673581]\n",
      "['SV', 'Virginia Square-GMU', 'Fairfax Dr & Kenmore St', 0.19401144387935257]\n",
      "['SV', 'Ballston-MU', 'Ballston Metro / N Stuart & 9th St N', 0.0709644315787311]\n",
      "['SV', 'Ballston-MU', 'N Randolph St & Fairfax Dr', 0.13909018298795253]\n",
      "['SV', 'Ballston-MU', 'Utah St & 11th St N ', 0.1564819022944289]\n",
      "['SV', 'East Falls Church', 'East Falls Church Metro/Sycamore St & 19th St N', 0.09326212342602272]\n",
      "['SV', 'Tysons Corner', 'Tysons One Pl & Chain Bridge Rd', 0.12183139163117795]\n",
      "['SV', 'Tysons Corner', 'Tysons Corner Station', 0.08879534239817481]\n",
      "['SV', 'Spring Hill', 'Spring Hill Metro', 0.06290622660573775]\n",
      "['SV', 'Wiehle-Reston East', 'Reston Station', 0.11867529251487194]\n"
     ]
    }
   ],
   "source": [
    "lines = ['RD', 'YL', 'GR','BL', 'OR', 'SV']\n",
    "bikes_close = dict()\n",
    "for ii in range(len(lines)):\n",
    "    bikes_temp = []\n",
    "    for key_metro in station_data[lines[ii]]:\n",
    "        for key_bike in bike_location:\n",
    "            dist = vincenty(station_data[lines[ii]][key_metro], bike_location[key_bike]).miles\n",
    "            if dist <= 0.25:\n",
    "                bikes_temp.append(key_bike)\n",
    "                print([lines[ii], key_metro, key_bike, dist])\n",
    "    bikes_close[lines[ii]] = list(set(bikes_temp))"
   ]
  },
  {
   "cell_type": "code",
   "execution_count": 59,
   "metadata": {
    "collapsed": false
   },
   "outputs": [
    {
     "name": "stdout",
     "output_type": "stream",
     "text": [
      "37\n",
      "['8th & O St NW', '10th & U St NW', '3rd & Tingey St SE', '5th St & Massachusetts Ave NW', 'Anacostia Metro']\n"
     ]
    }
   ],
   "source": [
    "print(len(bikes_close['GR']))\n",
    "print(bikes_close['GR'][:5])"
   ]
  },
  {
   "cell_type": "markdown",
   "metadata": {},
   "source": [
    "I now have a dictionary of a list of bike stations (values) within 0.25 miles of each metro line (key).  \n",
    "Save it with pickle for use in other notebooks"
   ]
  },
  {
   "cell_type": "code",
   "execution_count": 60,
   "metadata": {
    "collapsed": true
   },
   "outputs": [],
   "source": [
    "pickle.dump( bikes_close, open( \"bikes_close.p\", \"wb\" ) )"
   ]
  },
  {
   "cell_type": "markdown",
   "metadata": {},
   "source": [
    "### step 2) \n",
    "how many bike stations are considered close to each line? I need to make sure the numbers are appropriate for doing statistical analysis"
   ]
  },
  {
   "cell_type": "code",
   "execution_count": 63,
   "metadata": {
    "collapsed": false
   },
   "outputs": [
    {
     "name": "stdout",
     "output_type": "stream",
     "text": [
      "RD 57\n",
      "YL 42\n",
      "GR 37\n",
      "BL 57\n",
      "OR 62\n",
      "SV 66\n"
     ]
    }
   ],
   "source": [
    "for ii in bikes_close:\n",
    "    print(ii, len(bikes_close[ii]))"
   ]
  },
  {
   "cell_type": "markdown",
   "metadata": {},
   "source": [
    "About 10% to 15% of bike stations are within 0.25 miles of each metro line"
   ]
  },
  {
   "cell_type": "markdown",
   "metadata": {
    "collapsed": true
   },
   "source": [
    "test my function"
   ]
  },
  {
   "cell_type": "code",
   "execution_count": 8,
   "metadata": {
    "collapsed": false,
    "scrolled": true
   },
   "outputs": [
    {
     "name": "stdout",
     "output_type": "stream",
     "text": [
      "['RD', 'Metro Center', 'Metro Center / 12th & G St NW', 0.01309254369908234]\n",
      "['RD', 'Metro Center', '11th & F St NW', 0.06795192147122418]\n",
      "['RD', 'Farragut North', '17th & K St NW', 0.06809744971683841]\n",
      "['RD', 'Dupont Circle', 'Massachusetts Ave & Dupont Circle NW', 0.05904192211308173]\n",
      "['RD', 'Dupont Circle', '20th & O St NW / Dupont South', 0.07475003434079858]\n",
      "['RD', 'Cleveland Park', 'Connecticut Ave & Newark St NW / Cleveland Park', 0.032888310887331594]\n",
      "['RD', 'Van Ness-UDC', 'Van Ness Metro / UDC', 0.06748728170569013]\n",
      "['RD', 'Tenleytown-AU', 'Tenleytown / Wisconsin Ave & Albemarle St NW', 0.01870215984191263]\n",
      "['RD', 'Friendship Heights', 'Friendship Hts Metro/Wisconsin Ave & Wisconsin Cir', 0.07030935754340062]\n",
      "['RD', 'Bethesda', 'Montgomery & East Ln', 0.07256963207918365]\n",
      "['RD', 'Bethesda', 'Bethesda Metro', 0.028784887064349826]\n",
      "['RD', 'Medical Center', 'Medical Center Metro ', 0.05183570243479291]\n",
      "['RD', 'Rockville', 'Rockville Metro East', 0.08791680580313965]\n",
      "['RD', 'Rockville', 'Rockville Metro West', 0.02631890291879981]\n",
      "['RD', 'Shady Grove', 'Shady Grove Metro West', 0.06308897851791358]\n",
      "['RD', 'Gallery Pl-Chinatown', '7th & F St NW/Portrait Gallery', 0.0742649832638229]\n",
      "['RD', 'Judiciary Square', '4th & D St NW / Judiciary Square', 0.058682349306896676]\n",
      "['RD', 'Rhode Island Ave-Brentwood', 'Rhode Island Ave Metro', 0.007101677542623397]\n",
      "['RD', 'Fort Totten', 'Fort Totten Metro', 0.05035612084528124]\n",
      "['RD', 'Takoma', 'Takoma Metro', 0.05696539632243835]\n",
      "['YL', 'Pentagon City', 'Pentagon City Metro / 12th & S Hayes St', 0.05616960461752927]\n",
      "['YL', 'Crystal City', 'Crystal City Metro / 18th & Bell St', 0.03952555633368628]\n",
      "['YL', 'Braddock Road', 'Braddock Rd Metro', 0.06474084924822252]\n",
      "['YL', 'King St-Old Town', 'King St Metro South', 0.05322495125055565]\n",
      "['YL', 'King St-Old Town', 'King St Metro North / Cameron St', 0.08020183404313651]\n",
      "['YL', 'Mt Vernon Sq 7th St-Convention Center', 'Convention Center / 7th & M St NW', 0.009205412414386742]\n",
      "['YL', 'Shaw-Howard U', '7th & R St NW / Shaw Library', 0.013955344171547574]\n",
      "['YL', 'U Street/African-Amer Civil War Memorial/Cardozo', '12th & U St NW', 0.047713514018469315]\n",
      "['YL', 'Columbia Heights', '14th & Irving St NW', 0.03082093490087573]\n",
      "['YL', 'Georgia Ave-Petworth', 'Georgia & New Hampshire Ave NW', 0.004859580763556235]\n",
      "['YL', 'Fort Totten', 'Fort Totten Metro', 0.05035612084528124]\n",
      "['YL', 'Gallery Pl-Chinatown', '7th & F St NW/Portrait Gallery', 0.0742649832638229]\n",
      "['YL', 'Archives-Navy Memorial-Penn Quarter', '8th & D St NW', 0.09782339862004422]\n",
      "['GR', 'Mt Vernon Sq 7th St-Convention Center', 'Convention Center / 7th & M St NW', 0.009205412414386742]\n",
      "['GR', 'Shaw-Howard U', '7th & R St NW / Shaw Library', 0.013955344171547574]\n",
      "['GR', 'U Street/African-Amer Civil War Memorial/Cardozo', '12th & U St NW', 0.047713514018469315]\n",
      "['GR', 'Columbia Heights', '14th & Irving St NW', 0.03082093490087573]\n",
      "['GR', 'Georgia Ave-Petworth', 'Georgia & New Hampshire Ave NW', 0.004859580763556235]\n",
      "['GR', 'Fort Totten', 'Fort Totten Metro', 0.05035612084528124]\n",
      "['GR', 'Gallery Pl-Chinatown', '7th & F St NW/Portrait Gallery', 0.0742649832638229]\n",
      "['GR', 'Archives-Navy Memorial-Penn Quarter', '8th & D St NW', 0.09782339862004422]\n",
      "['GR', 'Waterfront', '4th & M St SW', 0.037004749474119414]\n",
      "['GR', 'Navy Yard-Ballpark', 'M St & New Jersey Ave SE', 0.0773294486819899]\n",
      "['GR', 'Anacostia', 'Anacostia Metro', 0.06832870667596788]\n",
      "['GR', 'Congress Heights', 'Congress Heights Metro', 0.04687429980919824]\n",
      "['BL', 'Metro Center', 'Metro Center / 12th & G St NW', 0.01309254369908234]\n",
      "['BL', 'Metro Center', '11th & F St NW', 0.06795192147122418]\n",
      "['BL', 'McPherson Square', '15th & K St NW', 0.04763881826771269]\n",
      "['BL', 'Farragut West', '17th & K St NW / Farragut Square', 0.09544363416981075]\n",
      "['BL', 'Foggy Bottom-GWU', '22nd & I St NW / Foggy Bottom', 0.07593069408964832]\n",
      "['BL', 'Foggy Bottom-GWU', 'New Hampshire Ave & 24th St NW', 0.09093780040088711]\n",
      "['BL', 'Rosslyn', 'Lynn & 19th St North', 0.05568150440235235]\n",
      "['BL', 'Pentagon City', 'Pentagon City Metro / 12th & S Hayes St', 0.05616960461752927]\n",
      "['BL', 'Crystal City', 'Crystal City Metro / 18th & Bell St', 0.03952555633368628]\n",
      "['BL', 'Braddock Road', 'Braddock Rd Metro', 0.06474084924822252]\n",
      "['BL', 'King St-Old Town', 'King St Metro South', 0.05322495125055565]\n",
      "['BL', 'King St-Old Town', 'King St Metro North / Cameron St', 0.08020183404313651]\n",
      "['BL', 'Smithsonian', 'USDA / 12th & Independence Ave SW', 0.05415065082052175]\n",
      "['BL', 'Smithsonian', 'Smithsonian-National Mall / Jefferson Dr & 12th St SW', 0.054707995095332536]\n",
      "['BL', 'Capitol South', '1st & D St SE', 0.044784851938701166]\n",
      "['BL', 'Eastern Market', 'Eastern Market Metro / Pennsylvania Ave & 7th St SE', 0.009203298676164777]\n",
      "['BL', 'Potomac Ave', 'Potomac & Pennsylvania Ave SE', 0.045383595416708646]\n",
      "['BL', 'Benning Road', 'Benning Rd & East Capitol St NE / Benning Rd Metro', 0.06875196675595115]\n",
      "['OR', 'Metro Center', 'Metro Center / 12th & G St NW', 0.01309254369908234]\n",
      "['OR', 'Metro Center', '11th & F St NW', 0.06795192147122418]\n",
      "['OR', 'McPherson Square', '15th & K St NW', 0.04763881826771269]\n",
      "['OR', 'Farragut West', '17th & K St NW / Farragut Square', 0.09544363416981075]\n",
      "['OR', 'Foggy Bottom-GWU', '22nd & I St NW / Foggy Bottom', 0.07593069408964832]\n",
      "['OR', 'Foggy Bottom-GWU', 'New Hampshire Ave & 24th St NW', 0.09093780040088711]\n",
      "['OR', 'Rosslyn', 'Lynn & 19th St North', 0.05568150440235235]\n",
      "['OR', 'Smithsonian', 'USDA / 12th & Independence Ave SW', 0.05415065082052175]\n",
      "['OR', 'Smithsonian', 'Smithsonian-National Mall / Jefferson Dr & 12th St SW', 0.054707995095332536]\n",
      "['OR', 'Capitol South', '1st & D St SE', 0.044784851938701166]\n",
      "['OR', 'Eastern Market', 'Eastern Market Metro / Pennsylvania Ave & 7th St SE', 0.009203298676164777]\n",
      "['OR', 'Potomac Ave', 'Potomac & Pennsylvania Ave SE', 0.045383595416708646]\n",
      "['OR', 'Minnesota Ave', 'Minnesota Ave Metro/DOES', 0.0901446515107497]\n",
      "['OR', 'Court House', 'Wilson Blvd & N Uhle St', 0.03960186288180089]\n",
      "['OR', 'Court House', 'Court House Metro / 15th & N Uhle St ', 0.0777875707328746]\n",
      "['OR', 'Clarendon', 'Fairfax Dr & Wilson Blvd', 0.05774363584589857]\n",
      "['OR', 'Virginia Square-GMU', 'Virginia Square Metro / N Monroe St & 9th St N', 0.07025997566428539]\n",
      "['OR', 'Ballston-MU', 'Ballston Metro / N Stuart & 9th St N', 0.0709644315787311]\n",
      "['OR', 'East Falls Church', 'East Falls Church Metro/Sycamore St & 19th St N', 0.09326212342602272]\n",
      "['SV', 'Metro Center', 'Metro Center / 12th & G St NW', 0.01309254369908234]\n",
      "['SV', 'Metro Center', '11th & F St NW', 0.06795192147122418]\n",
      "['SV', 'McPherson Square', '15th & K St NW', 0.04763881826771269]\n",
      "['SV', 'Farragut West', '17th & K St NW / Farragut Square', 0.09544363416981075]\n",
      "['SV', 'Foggy Bottom-GWU', '22nd & I St NW / Foggy Bottom', 0.07593069408964832]\n",
      "['SV', 'Foggy Bottom-GWU', 'New Hampshire Ave & 24th St NW', 0.09093780040088711]\n",
      "['SV', 'Rosslyn', 'Lynn & 19th St North', 0.05568150440235235]\n",
      "['SV', 'Smithsonian', 'USDA / 12th & Independence Ave SW', 0.05415065082052175]\n",
      "['SV', 'Smithsonian', 'Smithsonian-National Mall / Jefferson Dr & 12th St SW', 0.054707995095332536]\n",
      "['SV', 'Capitol South', '1st & D St SE', 0.044784851938701166]\n",
      "['SV', 'Eastern Market', 'Eastern Market Metro / Pennsylvania Ave & 7th St SE', 0.009203298676164777]\n",
      "['SV', 'Potomac Ave', 'Potomac & Pennsylvania Ave SE', 0.045383595416708646]\n",
      "['SV', 'Benning Road', 'Benning Rd & East Capitol St NE / Benning Rd Metro', 0.06875196675595115]\n",
      "['SV', 'Court House', 'Wilson Blvd & N Uhle St', 0.03960186288180089]\n",
      "['SV', 'Court House', 'Court House Metro / 15th & N Uhle St ', 0.0777875707328746]\n",
      "['SV', 'Clarendon', 'Fairfax Dr & Wilson Blvd', 0.05774363584589857]\n",
      "['SV', 'Virginia Square-GMU', 'Virginia Square Metro / N Monroe St & 9th St N', 0.07025997566428539]\n",
      "['SV', 'Ballston-MU', 'Ballston Metro / N Stuart & 9th St N', 0.0709644315787311]\n",
      "['SV', 'East Falls Church', 'East Falls Church Metro/Sycamore St & 19th St N', 0.09326212342602272]\n",
      "['SV', 'Tysons Corner', 'Tysons Corner Station', 0.08879534239817481]\n",
      "['SV', 'Spring Hill', 'Spring Hill Metro', 0.06290622660573775]\n"
     ]
    }
   ],
   "source": [
    "fn_test = close_stations(0.1)"
   ]
  },
  {
   "cell_type": "code",
   "execution_count": 11,
   "metadata": {
    "collapsed": false
   },
   "outputs": [
    {
     "name": "stdout",
     "output_type": "stream",
     "text": [
      "RD 20\n",
      "YL 13\n",
      "GR 12\n",
      "BL 18\n",
      "OR 19\n",
      "SV 21\n"
     ]
    }
   ],
   "source": [
    "for ii in fn_test:\n",
    "    print(ii, len(fn_test[ii]))"
   ]
  },
  {
   "cell_type": "code",
   "execution_count": 12,
   "metadata": {
    "collapsed": false
   },
   "outputs": [
    {
     "data": {
      "text/plain": [
       "{'BL': ['Braddock Rd Metro',\n",
       "  'Metro Center / 12th & G St NW',\n",
       "  'Benning Rd & East Capitol St NE / Benning Rd Metro',\n",
       "  'USDA / 12th & Independence Ave SW',\n",
       "  'King St Metro South',\n",
       "  '17th & K St NW / Farragut Square',\n",
       "  'Crystal City Metro / 18th & Bell St',\n",
       "  'Lynn & 19th St North',\n",
       "  '11th & F St NW',\n",
       "  'King St Metro North / Cameron St',\n",
       "  '22nd & I St NW / Foggy Bottom',\n",
       "  '1st & D St SE',\n",
       "  '15th & K St NW',\n",
       "  'Smithsonian-National Mall / Jefferson Dr & 12th St SW',\n",
       "  'New Hampshire Ave & 24th St NW',\n",
       "  'Eastern Market Metro / Pennsylvania Ave & 7th St SE',\n",
       "  'Pentagon City Metro / 12th & S Hayes St',\n",
       "  'Potomac & Pennsylvania Ave SE'],\n",
       " 'GR': ['Anacostia Metro',\n",
       "  '12th & U St NW',\n",
       "  'Congress Heights Metro',\n",
       "  '7th & F St NW/Portrait Gallery',\n",
       "  '7th & R St NW / Shaw Library',\n",
       "  'Convention Center / 7th & M St NW',\n",
       "  'Georgia & New Hampshire Ave NW',\n",
       "  '4th & M St SW',\n",
       "  '8th & D St NW',\n",
       "  '14th & Irving St NW',\n",
       "  'M St & New Jersey Ave SE',\n",
       "  'Fort Totten Metro'],\n",
       " 'OR': ['Ballston Metro / N Stuart & 9th St N',\n",
       "  'Fairfax Dr & Wilson Blvd',\n",
       "  'Virginia Square Metro / N Monroe St & 9th St N',\n",
       "  'Metro Center / 12th & G St NW',\n",
       "  'Court House Metro / 15th & N Uhle St ',\n",
       "  'USDA / 12th & Independence Ave SW',\n",
       "  '17th & K St NW / Farragut Square',\n",
       "  '1st & D St SE',\n",
       "  'Lynn & 19th St North',\n",
       "  '11th & F St NW',\n",
       "  'Potomac & Pennsylvania Ave SE',\n",
       "  '22nd & I St NW / Foggy Bottom',\n",
       "  'Minnesota Ave Metro/DOES',\n",
       "  '15th & K St NW',\n",
       "  'Smithsonian-National Mall / Jefferson Dr & 12th St SW',\n",
       "  'New Hampshire Ave & 24th St NW',\n",
       "  'Wilson Blvd & N Uhle St',\n",
       "  'Eastern Market Metro / Pennsylvania Ave & 7th St SE',\n",
       "  'East Falls Church Metro/Sycamore St & 19th St N'],\n",
       " 'RD': ['Shady Grove Metro West',\n",
       "  'Van Ness Metro / UDC',\n",
       "  'Medical Center Metro ',\n",
       "  'Bethesda Metro',\n",
       "  'Metro Center / 12th & G St NW',\n",
       "  'Tenleytown / Wisconsin Ave & Albemarle St NW',\n",
       "  '4th & D St NW / Judiciary Square',\n",
       "  'Massachusetts Ave & Dupont Circle NW',\n",
       "  '7th & F St NW/Portrait Gallery',\n",
       "  '20th & O St NW / Dupont South',\n",
       "  'Friendship Hts Metro/Wisconsin Ave & Wisconsin Cir',\n",
       "  '17th & K St NW',\n",
       "  '11th & F St NW',\n",
       "  'Rockville Metro West',\n",
       "  'Rhode Island Ave Metro',\n",
       "  'Takoma Metro',\n",
       "  'Fort Totten Metro',\n",
       "  'Rockville Metro East',\n",
       "  'Montgomery & East Ln',\n",
       "  'Connecticut Ave & Newark St NW / Cleveland Park'],\n",
       " 'SV': ['Virginia Square Metro / N Monroe St & 9th St N',\n",
       "  'Court House Metro / 15th & N Uhle St ',\n",
       "  '11th & F St NW',\n",
       "  'Wilson Blvd & N Uhle St',\n",
       "  'East Falls Church Metro/Sycamore St & 19th St N',\n",
       "  'Ballston Metro / N Stuart & 9th St N',\n",
       "  'Smithsonian-National Mall / Jefferson Dr & 12th St SW',\n",
       "  'Benning Rd & East Capitol St NE / Benning Rd Metro',\n",
       "  '17th & K St NW / Farragut Square',\n",
       "  'Potomac & Pennsylvania Ave SE',\n",
       "  'Tysons Corner Station',\n",
       "  '15th & K St NW',\n",
       "  'Fairfax Dr & Wilson Blvd',\n",
       "  'Metro Center / 12th & G St NW',\n",
       "  'Lynn & 19th St North',\n",
       "  'Eastern Market Metro / Pennsylvania Ave & 7th St SE',\n",
       "  'USDA / 12th & Independence Ave SW',\n",
       "  '1st & D St SE',\n",
       "  'Spring Hill Metro',\n",
       "  '22nd & I St NW / Foggy Bottom',\n",
       "  'New Hampshire Ave & 24th St NW'],\n",
       " 'YL': ['Braddock Rd Metro',\n",
       "  '12th & U St NW',\n",
       "  'King St Metro South',\n",
       "  '7th & F St NW/Portrait Gallery',\n",
       "  '7th & R St NW / Shaw Library',\n",
       "  'Convention Center / 7th & M St NW',\n",
       "  'Crystal City Metro / 18th & Bell St',\n",
       "  'King St Metro North / Cameron St',\n",
       "  'Georgia & New Hampshire Ave NW',\n",
       "  '8th & D St NW',\n",
       "  '14th & Irving St NW',\n",
       "  'Fort Totten Metro',\n",
       "  'Pentagon City Metro / 12th & S Hayes St']}"
      ]
     },
     "execution_count": 12,
     "metadata": {},
     "output_type": "execute_result"
    }
   ],
   "source": [
    "fn_test"
   ]
  },
  {
   "cell_type": "code",
   "execution_count": null,
   "metadata": {
    "collapsed": true
   },
   "outputs": [],
   "source": []
  }
 ],
 "metadata": {
  "kernelspec": {
   "display_name": "Python 3",
   "language": "python",
   "name": "python3"
  },
  "language_info": {
   "codemirror_mode": {
    "name": "ipython",
    "version": 3
   },
   "file_extension": ".py",
   "mimetype": "text/x-python",
   "name": "python",
   "nbconvert_exporter": "python",
   "pygments_lexer": "ipython3",
   "version": "3.6.0"
  }
 },
 "nbformat": 4,
 "nbformat_minor": 2
}
