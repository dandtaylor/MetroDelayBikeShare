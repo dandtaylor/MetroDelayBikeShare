{
 "cells": [
  {
   "cell_type": "markdown",
   "metadata": {},
   "source": [
    "# In this notebook I do some initial data exploration with the metro delay data"
   ]
  },
  {
   "cell_type": "code",
   "execution_count": 58,
   "metadata": {
    "collapsed": true
   },
   "outputs": [],
   "source": [
    "import pandas as pd\n",
    "import matplotlib.pyplot as plt\n",
    "import matplotlib\n",
    "from geopy.geocoders import Nominatim\n",
    "from geopy.distance import vincenty\n",
    "from __future__ import division\n",
    "import pickle\n",
    "matplotlib.style.use('ggplot')\n",
    "%matplotlib inline"
   ]
  },
  {
   "cell_type": "markdown",
   "metadata": {},
   "source": [
    "#### Metro delays are from http://www.opendatadc.org/dataset/wmata-disruption-reports, a open file of daily disruption reports from WMATA's api"
   ]
  },
  {
   "cell_type": "code",
   "execution_count": 52,
   "metadata": {
    "collapsed": true
   },
   "outputs": [],
   "source": [
    "metro_delays = pd.read_csv(\"We'll be Moving Momentarily - Incidents.csv\")"
   ]
  },
  {
   "cell_type": "code",
   "execution_count": 53,
   "metadata": {
    "collapsed": false
   },
   "outputs": [
    {
     "data": {
      "text/html": [
       "<div>\n",
       "<table border=\"1\" class=\"dataframe\">\n",
       "  <thead>\n",
       "    <tr style=\"text-align: right;\">\n",
       "      <th></th>\n",
       "      <th>Date</th>\n",
       "      <th>Time</th>\n",
       "      <th>Incident</th>\n",
       "      <th>Line</th>\n",
       "      <th>Direction</th>\n",
       "      <th>Cause</th>\n",
       "      <th>Delay</th>\n",
       "    </tr>\n",
       "  </thead>\n",
       "  <tbody>\n",
       "    <tr>\n",
       "      <th>0</th>\n",
       "      <td>12/31/2012</td>\n",
       "      <td>5:00 a.m.</td>\n",
       "      <td>A Fort Totten-bound Yellow Line train at Brad...</td>\n",
       "      <td>Yellow</td>\n",
       "      <td>Fort Totten</td>\n",
       "      <td>an operational problem</td>\n",
       "      <td>13.0</td>\n",
       "    </tr>\n",
       "    <tr>\n",
       "      <th>1</th>\n",
       "      <td>12/31/2012</td>\n",
       "      <td>10:30 a.m.</td>\n",
       "      <td>A Grosvenor-bound Red Line train at Gallery P...</td>\n",
       "      <td>Red</td>\n",
       "      <td>Grosvenor</td>\n",
       "      <td>an equipment problem</td>\n",
       "      <td>6.0</td>\n",
       "    </tr>\n",
       "    <tr>\n",
       "      <th>2</th>\n",
       "      <td>12/31/2012</td>\n",
       "      <td>4:11 p.m.</td>\n",
       "      <td>A Greenbelt-bound Green Line train at Branch ...</td>\n",
       "      <td>Green</td>\n",
       "      <td>Greenbelt</td>\n",
       "      <td>an operational problem</td>\n",
       "      <td>4.0</td>\n",
       "    </tr>\n",
       "    <tr>\n",
       "      <th>3</th>\n",
       "      <td>12/31/2012</td>\n",
       "      <td>4:50 p.m.</td>\n",
       "      <td>A Greenbelt-bound Green Line train at Shaw-Ho...</td>\n",
       "      <td>Green</td>\n",
       "      <td>Greenbelt</td>\n",
       "      <td>an equipment problem</td>\n",
       "      <td>3.0</td>\n",
       "    </tr>\n",
       "    <tr>\n",
       "      <th>4</th>\n",
       "      <td>12/31/2012</td>\n",
       "      <td>5:55 p.m.</td>\n",
       "      <td>A Largo Town Center-bound Blue Line train at ...</td>\n",
       "      <td>Blue</td>\n",
       "      <td>Largo Town Center</td>\n",
       "      <td>a brake problem</td>\n",
       "      <td>9.0</td>\n",
       "    </tr>\n",
       "  </tbody>\n",
       "</table>\n",
       "</div>"
      ],
      "text/plain": [
       "         Date        Time                                           Incident  \\\n",
       "0  12/31/2012   5:00 a.m.   A Fort Totten-bound Yellow Line train at Brad...   \n",
       "1  12/31/2012  10:30 a.m.   A Grosvenor-bound Red Line train at Gallery P...   \n",
       "2  12/31/2012   4:11 p.m.   A Greenbelt-bound Green Line train at Branch ...   \n",
       "3  12/31/2012   4:50 p.m.   A Greenbelt-bound Green Line train at Shaw-Ho...   \n",
       "4  12/31/2012   5:55 p.m.   A Largo Town Center-bound Blue Line train at ...   \n",
       "\n",
       "     Line          Direction                   Cause  Delay  \n",
       "0  Yellow        Fort Totten  an operational problem   13.0  \n",
       "1     Red          Grosvenor    an equipment problem    6.0  \n",
       "2   Green          Greenbelt  an operational problem    4.0  \n",
       "3   Green          Greenbelt    an equipment problem    3.0  \n",
       "4    Blue  Largo Town Center         a brake problem    9.0  "
      ]
     },
     "execution_count": 53,
     "metadata": {},
     "output_type": "execute_result"
    }
   ],
   "source": [
    "metro_delays.head()"
   ]
  },
  {
   "cell_type": "markdown",
   "metadata": {},
   "source": [
    "#### How many delays are there of greater than 30 minutes?"
   ]
  },
  {
   "cell_type": "code",
   "execution_count": 54,
   "metadata": {
    "collapsed": false
   },
   "outputs": [
    {
     "data": {
      "text/plain": [
       "461"
      ]
     },
     "execution_count": 54,
     "metadata": {},
     "output_type": "execute_result"
    }
   ],
   "source": [
    "long_delays = metro_delays[metro_delays['Delay'] >= 30]\n",
    "len(long_delays)"
   ]
  },
  {
   "cell_type": "code",
   "execution_count": 55,
   "metadata": {
    "collapsed": false
   },
   "outputs": [
    {
     "data": {
      "text/plain": [
       "'12/10/2012'"
      ]
     },
     "execution_count": 55,
     "metadata": {},
     "output_type": "execute_result"
    }
   ],
   "source": [
    "long_delays.iloc[0][\"Date\"]"
   ]
  },
  {
   "cell_type": "markdown",
   "metadata": {},
   "source": [
    "#### I need to convert the 'Date' and 'Time' columns into a timestamp for each event"
   ]
  },
  {
   "cell_type": "code",
   "execution_count": 56,
   "metadata": {
    "collapsed": false
   },
   "outputs": [],
   "source": [
    "metro_delays['Time'] = metro_delays['Time'].str.replace('.','')\n",
    "metro_delays['time_stamp'] = metro_delays['Date'] + ' ' + metro_delays['Time']"
   ]
  },
  {
   "cell_type": "code",
   "execution_count": 57,
   "metadata": {
    "collapsed": false,
    "scrolled": false
   },
   "outputs": [
    {
     "data": {
      "text/html": [
       "<div>\n",
       "<table border=\"1\" class=\"dataframe\">\n",
       "  <thead>\n",
       "    <tr style=\"text-align: right;\">\n",
       "      <th></th>\n",
       "      <th>Date</th>\n",
       "      <th>Time</th>\n",
       "      <th>Incident</th>\n",
       "      <th>Line</th>\n",
       "      <th>Direction</th>\n",
       "      <th>Cause</th>\n",
       "      <th>Delay</th>\n",
       "      <th>time_stamp</th>\n",
       "    </tr>\n",
       "  </thead>\n",
       "  <tbody>\n",
       "    <tr>\n",
       "      <th>0</th>\n",
       "      <td>12/31/2012</td>\n",
       "      <td>2012-12-31 05:00:00</td>\n",
       "      <td>A Fort Totten-bound Yellow Line train at Brad...</td>\n",
       "      <td>Yellow</td>\n",
       "      <td>Fort Totten</td>\n",
       "      <td>an operational problem</td>\n",
       "      <td>13.0</td>\n",
       "      <td>12/31/2012 5:00 am</td>\n",
       "    </tr>\n",
       "    <tr>\n",
       "      <th>1</th>\n",
       "      <td>12/31/2012</td>\n",
       "      <td>2012-12-31 10:30:00</td>\n",
       "      <td>A Grosvenor-bound Red Line train at Gallery P...</td>\n",
       "      <td>Red</td>\n",
       "      <td>Grosvenor</td>\n",
       "      <td>an equipment problem</td>\n",
       "      <td>6.0</td>\n",
       "      <td>12/31/2012 10:30 am</td>\n",
       "    </tr>\n",
       "    <tr>\n",
       "      <th>2</th>\n",
       "      <td>12/31/2012</td>\n",
       "      <td>2012-12-31 16:11:00</td>\n",
       "      <td>A Greenbelt-bound Green Line train at Branch ...</td>\n",
       "      <td>Green</td>\n",
       "      <td>Greenbelt</td>\n",
       "      <td>an operational problem</td>\n",
       "      <td>4.0</td>\n",
       "      <td>12/31/2012 4:11 pm</td>\n",
       "    </tr>\n",
       "    <tr>\n",
       "      <th>3</th>\n",
       "      <td>12/31/2012</td>\n",
       "      <td>2012-12-31 16:50:00</td>\n",
       "      <td>A Greenbelt-bound Green Line train at Shaw-Ho...</td>\n",
       "      <td>Green</td>\n",
       "      <td>Greenbelt</td>\n",
       "      <td>an equipment problem</td>\n",
       "      <td>3.0</td>\n",
       "      <td>12/31/2012 4:50 pm</td>\n",
       "    </tr>\n",
       "    <tr>\n",
       "      <th>4</th>\n",
       "      <td>12/31/2012</td>\n",
       "      <td>2012-12-31 17:55:00</td>\n",
       "      <td>A Largo Town Center-bound Blue Line train at ...</td>\n",
       "      <td>Blue</td>\n",
       "      <td>Largo Town Center</td>\n",
       "      <td>a brake problem</td>\n",
       "      <td>9.0</td>\n",
       "      <td>12/31/2012 5:55 pm</td>\n",
       "    </tr>\n",
       "  </tbody>\n",
       "</table>\n",
       "</div>"
      ],
      "text/plain": [
       "         Date                Time  \\\n",
       "0  12/31/2012 2012-12-31 05:00:00   \n",
       "1  12/31/2012 2012-12-31 10:30:00   \n",
       "2  12/31/2012 2012-12-31 16:11:00   \n",
       "3  12/31/2012 2012-12-31 16:50:00   \n",
       "4  12/31/2012 2012-12-31 17:55:00   \n",
       "\n",
       "                                            Incident    Line  \\\n",
       "0   A Fort Totten-bound Yellow Line train at Brad...  Yellow   \n",
       "1   A Grosvenor-bound Red Line train at Gallery P...     Red   \n",
       "2   A Greenbelt-bound Green Line train at Branch ...   Green   \n",
       "3   A Greenbelt-bound Green Line train at Shaw-Ho...   Green   \n",
       "4   A Largo Town Center-bound Blue Line train at ...    Blue   \n",
       "\n",
       "           Direction                   Cause  Delay           time_stamp  \n",
       "0        Fort Totten  an operational problem   13.0   12/31/2012 5:00 am  \n",
       "1          Grosvenor    an equipment problem    6.0  12/31/2012 10:30 am  \n",
       "2          Greenbelt  an operational problem    4.0   12/31/2012 4:11 pm  \n",
       "3          Greenbelt    an equipment problem    3.0   12/31/2012 4:50 pm  \n",
       "4  Largo Town Center         a brake problem    9.0   12/31/2012 5:55 pm  "
      ]
     },
     "execution_count": 57,
     "metadata": {},
     "output_type": "execute_result"
    }
   ],
   "source": [
    "metro_delays['Time'] = pd.to_datetime(metro_delays['time_stamp'], format='%m/%d/%Y %I:%M %p')\n",
    "metro_delays.head()"
   ]
  },
  {
   "cell_type": "markdown",
   "metadata": {},
   "source": [
    "export dataframe with pickle"
   ]
  },
  {
   "cell_type": "code",
   "execution_count": 59,
   "metadata": {
    "collapsed": true
   },
   "outputs": [],
   "source": [
    "pickle.dump( metro_delays, open( \"metro_delays.p\", \"wb\" ) )"
   ]
  },
  {
   "cell_type": "code",
   "execution_count": null,
   "metadata": {
    "collapsed": true
   },
   "outputs": [],
   "source": []
  }
 ],
 "metadata": {
  "kernelspec": {
   "display_name": "Python 3",
   "language": "python",
   "name": "python3"
  },
  "language_info": {
   "codemirror_mode": {
    "name": "ipython",
    "version": 3
   },
   "file_extension": ".py",
   "mimetype": "text/x-python",
   "name": "python",
   "nbconvert_exporter": "python",
   "pygments_lexer": "ipython3",
   "version": "3.6.0"
  }
 },
 "nbformat": 4,
 "nbformat_minor": 2
}
