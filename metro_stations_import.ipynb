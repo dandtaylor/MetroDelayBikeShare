{
 "cells": [
  {
   "cell_type": "markdown",
   "metadata": {},
   "source": [
    "# Use the WMATA api to get station locations for each line\n",
    "\n",
    "LineCode string  \n",
    "Two-letter line code abbreviation:\n",
    "\n",
    "* RD - Red\n",
    "* YL - Yellow\n",
    "* GR - Green\n",
    "* BL - Blue\n",
    "* OR - Orange\n",
    "* SV - Silver"
   ]
  },
  {
   "cell_type": "code",
   "execution_count": 1,
   "metadata": {
    "collapsed": true
   },
   "outputs": [],
   "source": [
    "import http.client, urllib.request, urllib.parse, urllib.error, base64\n",
    "import urllib\n",
    "import json\n",
    "import pickle"
   ]
  },
  {
   "cell_type": "markdown",
   "metadata": {},
   "source": [
    "### Make a function for importing the station info for each line"
   ]
  },
  {
   "cell_type": "code",
   "execution_count": 2,
   "metadata": {
    "collapsed": true
   },
   "outputs": [],
   "source": [
    "def metro_line_import(line):\n",
    "    \"\"\"Import station data from WMATA API and format it as a dictionary with staion name as the key and the\n",
    "    [latitude, longitude] as the values\"\"\"\n",
    "    headers = {\n",
    "    # Request headers\n",
    "    'api_key': '7f97903f83b24fcaa6dcc929bdb73437',\n",
    "    }\n",
    "\n",
    "    params = urllib.parse.urlencode({\n",
    "        # Request parameters\n",
    "        'LineCode': line,\n",
    "    })\n",
    "\n",
    "    try:\n",
    "        conn = http.client.HTTPSConnection('api.wmata.com')\n",
    "        conn.request(\"GET\", \"/Rail.svc/json/jStations?%s\" % params, \"{body}\", headers)\n",
    "        response = conn.getresponse()\n",
    "        data = response.read()\n",
    "        #print(data)\n",
    "        conn.close()\n",
    "        data_js = json.loads(data)\n",
    "        line_dic = dict()\n",
    "        for ii in range(len(data_js['Stations'])):\n",
    "            line_dic[data_js['Stations'][ii]['Name']] = [data_js['Stations'][ii]['Lat'], data_js['Stations'][ii]['Lon']]\n",
    "        #print(line_dic)\n",
    "    except Exception as e:\n",
    "        print(\"[Errno {0}] {1}\".format(e.errno, e.strerror))\n",
    "    return line_dic"
   ]
  },
  {
   "cell_type": "markdown",
   "metadata": {},
   "source": [
    "Import the data for each line"
   ]
  },
  {
   "cell_type": "code",
   "execution_count": 3,
   "metadata": {
    "collapsed": true
   },
   "outputs": [],
   "source": [
    "lines = ['RD', 'YL', 'GR','BL', 'OR', 'SV']\n",
    "line_stations = []\n",
    "for ii in range(len(lines)):\n",
    "    line_stations.append(metro_line_import(lines[ii]))"
   ]
  },
  {
   "cell_type": "markdown",
   "metadata": {},
   "source": [
    "Turn list of dict's into dic with line (key) and stations (value)"
   ]
  },
  {
   "cell_type": "code",
   "execution_count": 4,
   "metadata": {
    "collapsed": true
   },
   "outputs": [],
   "source": [
    "station_data = dict()\n",
    "for ii in range(len(lines)):\n",
    "    station_data[lines[ii]] = line_stations[ii]"
   ]
  },
  {
   "cell_type": "markdown",
   "metadata": {},
   "source": [
    "Use Pickel to save the dictionary of lines with the station locations"
   ]
  },
  {
   "cell_type": "code",
   "execution_count": 5,
   "metadata": {
    "collapsed": true
   },
   "outputs": [],
   "source": [
    "pickle.dump( station_data, open( \"station_data.p\", \"wb\" ) )"
   ]
  },
  {
   "cell_type": "code",
   "execution_count": null,
   "metadata": {
    "collapsed": true
   },
   "outputs": [],
   "source": []
  }
 ],
 "metadata": {
  "kernelspec": {
   "display_name": "Python 3",
   "language": "python",
   "name": "python3"
  },
  "language_info": {
   "codemirror_mode": {
    "name": "ipython",
    "version": 3
   },
   "file_extension": ".py",
   "mimetype": "text/x-python",
   "name": "python",
   "nbconvert_exporter": "python",
   "pygments_lexer": "ipython3",
   "version": "3.6.0"
  }
 },
 "nbformat": 4,
 "nbformat_minor": 2
}
